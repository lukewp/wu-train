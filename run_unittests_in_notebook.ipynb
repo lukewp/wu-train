{
 "cells": [
  {
   "cell_type": "markdown",
   "id": "c9dc34f5",
   "metadata": {},
   "source": [
    "# Run Unittests for split_lyrics_by_performer.py\n",
    "This notebook runs the test suite for the lyrics splitting logic using Python's standard `unittest` framework."
   ]
  },
  {
   "cell_type": "code",
   "execution_count": null,
   "id": "bb7e5736",
   "metadata": {},
   "outputs": [],
   "source": [
    "# Option 1: Run all tests in the tests directory using unittest discovery\n",
    "!python -m unittest discover -s tests -v"
   ]
  }
 ],
 "metadata": {
  "kernelspec": {
   "display_name": "Python 3",
   "language": "python",
   "name": "python3"
  },
  "language_info": {
   "codemirror_mode": {
    "name": "ipython",
    "version": 3
   },
   "file_extension": ".py",
   "mimetype": "text/x-python",
   "name": "python",
   "nbconvert_exporter": "python",
   "pygments_lexer": "ipython3",
   "version": "3.11.13"
  }
 },
 "nbformat": 4,
 "nbformat_minor": 5
}
