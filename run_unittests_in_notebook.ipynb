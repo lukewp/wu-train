{
 "cells": [
  {
   "cell_type": "markdown",
   "id": "c9dc34f5",
   "metadata": {},
   "source": [
    "# Run Unittests for split_lyrics_by_performer.py\n",
    "This notebook runs the test suite for the lyrics splitting logic using Python's standard `unittest` framework."
   ]
  },
  {
   "cell_type": "code",
   "execution_count": 1,
   "id": "bb7e5736",
   "metadata": {},
   "outputs": [
    {
     "name": "stdout",
     "output_type": "stream",
     "text": [
      "test_split_lyrics_by_performer (unittest.loader._FailedTest.test_split_lyrics_by_performer) ... ERROR\n",
      "\n",
      "======================================================================\n",
      "ERROR: test_split_lyrics_by_performer (unittest.loader._FailedTest.test_split_lyrics_by_performer)\n",
      "----------------------------------------------------------------------\n",
      "ImportError: Failed to import test module: test_split_lyrics_by_performer\n",
      "Traceback (most recent call last):\n",
      "  File \"/usr/local/lib/python3.11/unittest/loader.py\", line 419, in _find_test_path\n",
      "    module = self._get_module_from_name(name)\n",
      "             ^^^^^^^^^^^^^^^^^^^^^^^^^^^^^^^^\n",
      "  File \"/usr/local/lib/python3.11/unittest/loader.py\", line 362, in _get_module_from_name\n",
      "    __import__(name)\n",
      "  File \"/workspaces/wu-train/tests/test_split_lyrics_by_performer.py\", line 6, in <module>\n",
      "    from split_lyrics_by_performer import split_lyrics_by_performer, preprocess_lyrics_file, sanitize_key\n",
      "ModuleNotFoundError: No module named 'split_lyrics_by_performer'\n",
      "\n",
      "\n",
      "----------------------------------------------------------------------\n",
      "Ran 1 test in 0.000s\n",
      "\n",
      "FAILED (errors=1)\n"
     ]
    }
   ],
   "source": [
    "# Option 1: Run all tests in the tests directory using unittest discovery\n",
    "!python -m unittest discover -s tests -v"
   ]
  },
  {
   "cell_type": "markdown",
   "id": "ae187c73",
   "metadata": {},
   "source": [
    "---\n",
    "\n",
    "**Alternative: Run a specific test class and display results inline**"
   ]
  },
  {
   "cell_type": "code",
   "execution_count": null,
   "id": "ca4bcf8d",
   "metadata": {},
   "outputs": [],
   "source": [
    "import unittest\n",
    "from tests.test_split_lyrics_by_performer import TestSplitLyricsByPerformer\n",
    "suite = unittest.TestLoader().loadTestsFromTestCase(TestSplitLyricsByPerformer)\n",
    "unittest.TextTestRunner(verbosity=2).run(suite)"
   ]
  }
 ],
 "metadata": {
  "kernelspec": {
   "display_name": "Python 3",
   "language": "python",
   "name": "python3"
  },
  "language_info": {
   "codemirror_mode": {
    "name": "ipython",
    "version": 3
   },
   "file_extension": ".py",
   "mimetype": "text/x-python",
   "name": "python",
   "nbconvert_exporter": "python",
   "pygments_lexer": "ipython3",
   "version": "3.11.13"
  }
 },
 "nbformat": 4,
 "nbformat_minor": 5
}
