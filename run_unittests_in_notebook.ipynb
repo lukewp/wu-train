{
 "cells": [
  {
   "cell_type": "markdown",
   "id": "c9dc34f5",
   "metadata": {},
   "source": [
    "# Run Unittests for split_lyrics_by_performer.py\n",
    "This notebook runs the test suite for the lyrics splitting logic using Python's standard `unittest` framework."
   ]
  },
  {
   "cell_type": "code",
   "execution_count": 5,
   "id": "bb7e5736",
   "metadata": {},
   "outputs": [
    {
     "name": "stdout",
     "output_type": "stream",
     "text": [
      "test_labeled_file_classification (test_split_lyrics_by_performer.TestClassifyKeys.test_labeled_file_classification)\n",
      "Test that all keys in unique_keys_labeled.json are classified as ... ok\n",
      "test_static_classification (test_split_lyrics_by_performer.TestClassifyKeys.test_static_classification)\n",
      "Test static examples for each class. ... ok\n",
      "test_load_alias_mapping (test_split_lyrics_by_performer.TestIdentifyPerformerKeys.test_load_alias_mapping)\n",
      "Test loading performer aliases mapping from JSON. ... ok\n",
      "test_match_key_to_alias (test_split_lyrics_by_performer.TestIdentifyPerformerKeys.test_match_key_to_alias)\n",
      "Test matching key candidates to performer aliases. ... ok\n",
      "test_multi_performer_key_maps_to_all_canonical (test_split_lyrics_by_performer.TestIdentifyPerformerKeys.test_multi_performer_key_maps_to_all_canonical)\n",
      "Test that a key like 'odb rza' identifies both 'ol' dirty bastard' ... ok\n",
      "test_real_alias_mapping (test_split_lyrics_by_performer.TestIdentifyPerformerKeys.test_real_alias_mapping)\n",
      "Test that the real performer_aliases.json maps representative ... ok\n",
      "test_multi_performer_key_triggers_skip (test_split_lyrics_by_performer.TestIgnoreSectionsAfterIgnoreKeys.test_multi_performer_key_triggers_skip)\n",
      "Test that a key mentioning multiple performers triggers a skip ... ok\n",
      "test_multiple_ignore_keys (test_split_lyrics_by_performer.TestIgnoreSectionsAfterIgnoreKeys.test_multiple_ignore_keys)\n",
      "Test that multiple ignore keys in sequence skip all lines until ... ok\n",
      "test_skip_key_does_not_attribute (test_split_lyrics_by_performer.TestIgnoreSectionsAfterIgnoreKeys.test_skip_key_does_not_attribute)\n",
      "Test that lines after a skip key are not attributed to any performer. ... ok\n",
      "test_skip_lines_after_ignore_key (test_split_lyrics_by_performer.TestIgnoreSectionsAfterIgnoreKeys.test_skip_lines_after_ignore_key)\n",
      "Test that lines after an ignore key are skipped until the next ... ok\n",
      "test_encoding_error (test_split_lyrics_by_performer.TestImportLyricsFile.test_encoding_error)\n",
      "Test handling of encoding errors when reading file. ... ok\n",
      "test_file_not_found (test_split_lyrics_by_performer.TestImportLyricsFile.test_file_not_found)\n",
      "Test handling of file not found error. ... ok\n",
      "test_load_lyrics_file (test_split_lyrics_by_performer.TestImportLyricsFile.test_load_lyrics_file)\n",
      "Test loading and reading the full contents of the lyrics file. ... ok\n",
      "test_openai_pairs_respect_verse_breaks (test_split_lyrics_by_performer.TestOpenAIPromptCompletionPairs.test_openai_pairs_respect_verse_breaks)\n",
      "Test that JSONL chat-format pairs are split at verse breaks ... ok\n",
      "test_case_insensitivity (test_split_lyrics_by_performer.TestOutputForSpecificPerformer.test_case_insensitivity)\n",
      "Test that performer/alias lookup is case-insensitive. ... ok\n",
      "test_empty_output (test_split_lyrics_by_performer.TestOutputForSpecificPerformer.test_empty_output)\n",
      "Test that a performer with no lyrics creates an empty file or as ... ok\n",
      "test_output_directory_created (test_split_lyrics_by_performer.TestOutputForSpecificPerformer.test_output_directory_created)\n",
      "Test that a non-existent output directory is created. ... ok\n",
      "test_output_for_alias (test_split_lyrics_by_performer.TestOutputForSpecificPerformer.test_output_for_alias)\n",
      "Test output for a performer specified by alias. ... ok\n",
      "test_output_for_canonical_performer (test_split_lyrics_by_performer.TestOutputForSpecificPerformer.test_output_for_canonical_performer)\n",
      "Test output for a canonical performer name. ... ok\n",
      "test_unknown_performer_raises (test_split_lyrics_by_performer.TestOutputForSpecificPerformer.test_unknown_performer_raises)\n",
      "Test that specifying an unknown performer raises an error ... ok\n",
      "test_only_valid_performer_keys_used (test_split_lyrics_by_performer.TestOutputTextFilesForPerformers.test_only_valid_performer_keys_used)\n",
      "Test that only valid performer keys are used for output ... ok\n",
      "test_output_files_for_all_performers (test_split_lyrics_by_performer.TestOutputTextFilesForPerformers.test_output_files_for_all_performers)\n",
      "Test that output files are created for all canonical performers ... ok\n",
      "test_all_tests_pass (test_split_lyrics_by_performer.TestRefactorAndPolish.test_all_tests_pass)\n",
      "Integration test: Run all other tests in this module and assert ... ok\n",
      "test_pep8_compliance (test_split_lyrics_by_performer.TestRefactorAndPolish.test_pep8_compliance)\n",
      "Test that split_lyrics_by_performer.py is PEP-8 compliant ... ok\n",
      "test_pep8_compliance_test_module (test_split_lyrics_by_performer.TestRefactorAndPolish.test_pep8_compliance_test_module)\n",
      "Test that test_split_lyrics_by_performer.py is PEP-8 compliant ... ok\n",
      "test_custom_trim_and_replace (test_split_lyrics_by_performer.TestTrimAndExtractKeyCandidates.test_custom_trim_and_replace)\n",
      "Test custom trim and replace chars in key extraction. ... ok\n",
      "test_extract_key_patterns (test_split_lyrics_by_performer.TestTrimAndExtractKeyCandidates.test_extract_key_patterns)\n",
      "Test parsing for [xxx] key patterns and cleaning with ... ok\n",
      "\n",
      "----------------------------------------------------------------------\n",
      "Ran 27 tests in 0.193s\n",
      "\n",
      "OK\n"
     ]
    }
   ],
   "source": [
    "# Option 1: Run all tests in the tests directory using unittest discovery\n",
    "!python -m unittest discover -s tests -v"
   ]
  }
 ],
 "metadata": {
  "kernelspec": {
   "display_name": "Python 3",
   "language": "python",
   "name": "python3"
  },
  "language_info": {
   "codemirror_mode": {
    "name": "ipython",
    "version": 3
   },
   "file_extension": ".py",
   "mimetype": "text/x-python",
   "name": "python",
   "nbconvert_exporter": "python",
   "pygments_lexer": "ipython3",
   "version": "3.11.13"
  }
 },
 "nbformat": 4,
 "nbformat_minor": 5
}
