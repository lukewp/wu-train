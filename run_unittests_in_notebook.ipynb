{
 "cells": [
  {
   "cell_type": "markdown",
   "id": "c9dc34f5",
   "metadata": {},
   "source": [
    "# Run Unittests for split_lyrics_by_performer.py\n",
    "This notebook runs the test suite for the lyrics splitting logic using Python's standard `unittest` framework."
   ]
  },
  {
   "cell_type": "code",
   "execution_count": 1,
   "id": "bb7e5736",
   "metadata": {},
   "outputs": [
    {
     "name": "stdout",
     "output_type": "stream",
     "text": [
      "test_detect_fake_keys (test_split_lyrics_by_performer.TestIdentifyNonPerformerKeys.test_detect_fake_keys)\n",
      "Test detection of fake keys (chorus, 2x, etc.). ... skipped 'Not implemented: detect fake keys'\n",
      "test_detect_ignore_keys (test_split_lyrics_by_performer.TestIdentifyNonPerformerKeys.test_detect_ignore_keys)\n",
      "Test detection of ignore keys ([all], [sample], etc.). ... skipped 'Not implemented: detect ignore keys'\n",
      "test_load_alias_mapping (test_split_lyrics_by_performer.TestIdentifyPerformerKeys.test_load_alias_mapping)\n",
      "Test loading performer aliases mapping from JSON. ... ok\n",
      "test_match_key_to_alias (test_split_lyrics_by_performer.TestIdentifyPerformerKeys.test_match_key_to_alias)\n",
      "Test matching key candidates to performer aliases. ... ok\n",
      "test_real_alias_mapping (test_split_lyrics_by_performer.TestIdentifyPerformerKeys.test_real_alias_mapping)\n",
      "Test that the real performer_aliases.json maps representative aliases to canonical names. ... FAIL\n",
      "test_skip_lines_after_ignore_key (test_split_lyrics_by_performer.TestIgnoreSectionsAfterIgnoreKeys.test_skip_lines_after_ignore_key)\n",
      "Test skipping all lines after an ignore key until next valid performer key. ... skipped 'Not implemented: skip lines after ignore key'\n",
      "test_encoding_error (test_split_lyrics_by_performer.TestImportLyricsFile.test_encoding_error)\n",
      "Test handling of encoding errors when reading file. ... ok\n",
      "test_file_not_found (test_split_lyrics_by_performer.TestImportLyricsFile.test_file_not_found)\n",
      "Test handling of file not found error. ... ok\n",
      "test_load_lyrics_file (test_split_lyrics_by_performer.TestImportLyricsFile.test_load_lyrics_file)\n",
      "Test loading and reading the full contents of the lyrics file. ... ok\n",
      "test_output_for_specified_performer (test_split_lyrics_by_performer.TestOutputForSpecificPerformer.test_output_for_specified_performer)\n",
      "Test output for a specified performer (canonical or alias). ... skipped 'Not implemented: output for specified performer'\n",
      "test_only_valid_performer_keys_used (test_split_lyrics_by_performer.TestOutputTextFilesForPerformers.test_only_valid_performer_keys_used)\n",
      "Test only valid performer keys are used for output. ... skipped 'Not implemented: only valid performer keys used'\n",
      "test_output_files_for_all_performers (test_split_lyrics_by_performer.TestOutputTextFilesForPerformers.test_output_files_for_all_performers)\n",
      "Test output files are created for all canonical performers. ... skipped 'Not implemented: output files for all performers'\n",
      "test_all_tests_pass (test_split_lyrics_by_performer.TestRefactorAndPolish.test_all_tests_pass)\n",
      "Test that all other tests pass (integration check). ... skipped 'Not implemented: all tests pass integration'\n",
      "test_code_clarity_and_comments (test_split_lyrics_by_performer.TestRefactorAndPolish.test_code_clarity_and_comments)\n",
      "Test code is clear, maintainable, and well-commented. ... skipped 'Not implemented: code clarity and comments'\n",
      "test_custom_trim_and_replace (test_split_lyrics_by_performer.TestTrimAndExtractKeyCandidates.test_custom_trim_and_replace)\n",
      "Test custom trim and replace chars in key extraction. ... ok\n",
      "test_extract_key_patterns (test_split_lyrics_by_performer.TestTrimAndExtractKeyCandidates.test_extract_key_patterns)\n",
      "Test parsing for [xxx] key patterns and cleaning with trim/replace chars. ... ok\n",
      "\n",
      "======================================================================\n",
      "FAIL: test_real_alias_mapping (test_split_lyrics_by_performer.TestIdentifyPerformerKeys.test_real_alias_mapping)\n",
      "Test that the real performer_aliases.json maps representative aliases to canonical names.\n",
      "----------------------------------------------------------------------\n",
      "Traceback (most recent call last):\n",
      "  File \"/workspaces/wu-train/tests/test_split_lyrics_by_performer.py\", line 136, in test_real_alias_mapping\n",
      "    self.assertEqual(result, canonical, f\"Alias '{alias}' should map to '{canonical}'\")\n",
      "AssertionError: None != 'ghostface killah' : Alias 'tony starks' should map to 'ghostface killah'\n",
      "\n",
      "----------------------------------------------------------------------\n",
      "Ran 16 tests in 0.008s\n",
      "\n",
      "FAILED (failures=1, skipped=8)\n"
     ]
    }
   ],
   "source": [
    "# Option 1: Run all tests in the tests directory using unittest discovery\n",
    "!python -m unittest discover -s tests -v"
   ]
  }
 ],
 "metadata": {
  "kernelspec": {
   "display_name": "Python 3",
   "language": "python",
   "name": "python3"
  },
  "language_info": {
   "codemirror_mode": {
    "name": "ipython",
    "version": 3
   },
   "file_extension": ".py",
   "mimetype": "text/x-python",
   "name": "python",
   "nbconvert_exporter": "python",
   "pygments_lexer": "ipython3",
   "version": "3.11.13"
  }
 },
 "nbformat": 4,
 "nbformat_minor": 5
}
